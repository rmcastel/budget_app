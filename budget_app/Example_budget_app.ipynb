{
 "cells": [
  {
   "cell_type": "code",
   "execution_count": 2,
   "metadata": {},
   "outputs": [],
   "source": [
    "import pandas as pd\n",
    "import matplotlib.pyplot as plt \n",
    "import seaborn as sns\n",
    "import numpy as np"
   ]
  },
  {
   "cell_type": "code",
   "execution_count": 22,
   "metadata": {},
   "outputs": [],
   "source": [
    "file = 'sample_data.xlsx'\n",
    "\n",
    "# read in data, \n",
    "# remove white space fron some of the column names,\n",
    "# put all column names to lowercase,\n",
    "# and then order by date\n",
    "\n",
    "df = pd.read_excel(file).rename(columns=lambda x: x.strip()).rename(str.lower, axis = 'columns').sort_values(by = ['date'])\n",
    "\n",
    "# Making a new variable to represent the week of year\n",
    "# and the month of the transactions\n",
    "df['week_of_year'] = df.date.dt.week - 23\n",
    "    # Subtract 23 to make the first week I moved to CLT week 1\n",
    "df['month'] = df['date'].dt.strftime(\"%b\")\n",
    "\n",
    "### Rearranging the order of the columns ###\n",
    "cols = df.columns.tolist()\n",
    "cols = cols[0:2] + cols[-2:] + cols[2:-2]\n",
    "df = df[cols]\n"
   ]
  },
  {
   "cell_type": "code",
   "execution_count": 23,
   "metadata": {},
   "outputs": [
    {
     "data": {
      "text/html": [
       "<div>\n",
       "<style scoped>\n",
       "    .dataframe tbody tr th:only-of-type {\n",
       "        vertical-align: middle;\n",
       "    }\n",
       "\n",
       "    .dataframe tbody tr th {\n",
       "        vertical-align: top;\n",
       "    }\n",
       "\n",
       "    .dataframe thead th {\n",
       "        text-align: right;\n",
       "    }\n",
       "</style>\n",
       "<table border=\"1\" class=\"dataframe\">\n",
       "  <thead>\n",
       "    <tr style=\"text-align: right;\">\n",
       "      <th></th>\n",
       "      <th>date</th>\n",
       "      <th>amount</th>\n",
       "      <th>week_of_year</th>\n",
       "      <th>month</th>\n",
       "      <th>description</th>\n",
       "      <th>where</th>\n",
       "    </tr>\n",
       "  </thead>\n",
       "  <tbody>\n",
       "    <tr>\n",
       "      <th>0</th>\n",
       "      <td>2019-06-10</td>\n",
       "      <td>-88.53</td>\n",
       "      <td>1</td>\n",
       "      <td>Jun</td>\n",
       "      <td>Grocries</td>\n",
       "      <td>Publix</td>\n",
       "    </tr>\n",
       "    <tr>\n",
       "      <th>1</th>\n",
       "      <td>2019-06-10</td>\n",
       "      <td>-22.85</td>\n",
       "      <td>1</td>\n",
       "      <td>Jun</td>\n",
       "      <td>Grocries</td>\n",
       "      <td>Food Lion</td>\n",
       "    </tr>\n",
       "    <tr>\n",
       "      <th>2</th>\n",
       "      <td>2019-06-10</td>\n",
       "      <td>-85.40</td>\n",
       "      <td>1</td>\n",
       "      <td>Jun</td>\n",
       "      <td>Clothes</td>\n",
       "      <td>Nike</td>\n",
       "    </tr>\n",
       "    <tr>\n",
       "      <th>3</th>\n",
       "      <td>2019-06-10</td>\n",
       "      <td>-143.42</td>\n",
       "      <td>1</td>\n",
       "      <td>Jun</td>\n",
       "      <td>Dining</td>\n",
       "      <td>Firehouse Subs</td>\n",
       "    </tr>\n",
       "    <tr>\n",
       "      <th>4</th>\n",
       "      <td>2019-06-10</td>\n",
       "      <td>-135.67</td>\n",
       "      <td>1</td>\n",
       "      <td>Jun</td>\n",
       "      <td>Clothes</td>\n",
       "      <td>Polo</td>\n",
       "    </tr>\n",
       "  </tbody>\n",
       "</table>\n",
       "</div>"
      ],
      "text/plain": [
       "        date  amount  week_of_year month description           where\n",
       "0 2019-06-10  -88.53             1   Jun    Grocries          Publix\n",
       "1 2019-06-10  -22.85             1   Jun    Grocries       Food Lion\n",
       "2 2019-06-10  -85.40             1   Jun     Clothes            Nike\n",
       "3 2019-06-10 -143.42             1   Jun      Dining  Firehouse Subs\n",
       "4 2019-06-10 -135.67             1   Jun     Clothes            Polo"
      ]
     },
     "execution_count": 23,
     "metadata": {},
     "output_type": "execute_result"
    }
   ],
   "source": [
    "df.head()"
   ]
  },
  {
   "cell_type": "code",
   "execution_count": 28,
   "metadata": {},
   "outputs": [],
   "source": [
    "class Monthly_Spending:\n",
    "    '''\n",
    "    Monthlty Statement: Class that gives a quick overview of my monetary transactions.\n",
    "  ________________________________________________________________________________________________________________\n",
    "    \n",
    "    Input:\n",
    "        df: A pandas DataFrame read in from excel spread sheet\n",
    "        \n",
    "        week_of_interest = latest week from dataframe: Week in which we would like summary statistics of expenditure    \n",
    "  ________________________________________________________________________________________________________________\n",
    "\n",
    "    Output:\n",
    "    \n",
    "        VARIABLES:    \n",
    "        \n",
    "        average_weekly_expenditure: Average of each weeks expenditure. type() = numpy.float64\n",
    "            POSSIBLE: Rewritten to use the weekly_tots variable?\n",
    "            \n",
    "        earn_n_burn: Each weeks sum of either money earned or spent. type() = pandas.DataFrame\n",
    "        \n",
    "        weekly_earn: Each weeks sum of money earned. type() = type() = pandas.core.series.Series\n",
    "        \n",
    "        weekly_burn: Each weeks sum of money spent. type() = type() = pandas.core.series.Series\n",
    "        \n",
    "        monthly_earn_n_burn: Each months sum of either money earned or spent. type() = pandas.DataFrame\n",
    "        \n",
    "        monthly_earn: Each months sum of money earned. type() = type() = pandas.core.series.Series\n",
    "                \n",
    "        monthly_burn: Each months sum of money spent. type() = type() = pandas.core.series.Series\n",
    "        \n",
    "        monthly_tots: Each months sum of purchases. type() = pandas.core.series.Series\n",
    "        \n",
    "        weekly_tots: Each weeks sum of purchases. type() = pandas.core.series.Series\n",
    "        \n",
    "        FUNCTIONS():\n",
    "        \n",
    "        weekly_bar_plot: Barplot showing the gross expenditures per week. Horizontal line represents the average \n",
    "            weekly expenditure\n",
    "            \n",
    "        monthly_bar_plot: monthly_bar_plot: Barplot of either monthly earnings (default) or monthly spending. \n",
    "        \n",
    "        this_weeks_purchases(week = latest week): Complete list for week of interest purchases. \n",
    "            type() = pandas.core.frame.DataFrame\n",
    "        \n",
    "        week_spend(week = latest week): Gross expenditure for week of interest. type() = numpy.float64\n",
    "            \n",
    "        week_pivot_table: Pivot table summazring where money was spent for week of interest\n",
    "            type() = pandas.core.frame.DataFrame\n",
    "            \n",
    "        year_pivot_table: Pivot table summazring where money was spent for each month\n",
    "            type() = pandas.core.frame.DataFrame            \n",
    "    \n",
    "    '''\n",
    "    \n",
    "    def __init__(self, df, week_of_interest = df.week_of_year.max()):\n",
    "        self.df = df\n",
    "        self.week_of_interest = week_of_interest\n",
    "        \n",
    "    def __str__(self):\n",
    "        \n",
    "        return \"This week you earned ${}\".format(self.weekly_spend())\n",
    "        \n",
    "    \n",
    "  ################################################################################################################\n",
    "  ######################################### # # # # # # # # # # #  ###############################################    \n",
    "  ######################################### USER DEFINED VARIABLES ###############################################\n",
    "  ######################################### # # # # # # # # # # #  ###############################################\n",
    "  ################################################################################################################\n",
    "    \n",
    "                                          #########################\n",
    "                                          ### Weekly Statistics ###\n",
    "                                          #########################\n",
    "    \n",
    "    average_weekly_expenditure = round(round(df.groupby(df.week_of_year)['amount'].sum().mean(), 5), 2)\n",
    "        #note that we rounded twice in this variable assignment to make sure we are accurate to the $0.001\n",
    "        # we can most likely delete this variable, it's not used nor does it contain any valueable information\n",
    "        \n",
    "    earn_n_burn = df.groupby(['week_of_year', df['amount'] < 0])['amount'].sum().unstack()\n",
    "    \n",
    "    weekly_earn = earn_n_burn[0].fillna(0)\n",
    "        # the sum of all money earned since data began to be collected\n",
    "    \n",
    "    weekly_burn = earn_n_burn[1]\n",
    "        # the sum of all money spent since data began to be collected\n",
    "    \n",
    "    weekly_tots = round(round(df.groupby(df.week_of_year)['amount'].sum(), 5), 2)\n",
    "        # the aggregate of money either earned or burned for each given week\n",
    "        \n",
    "                                          ##########################\n",
    "                                          ### Monthly Statistics ###\n",
    "                                          ##########################\n",
    "    \n",
    "    monthly_earn_n_burn = df.groupby(['month', df['amount'] < 0])['amount'].sum().unstack().sort_values(by = ['month']).fillna(0)\n",
    "        # Need to fill NaN's or the monthly earn chart does not work #BUG\n",
    "            ####\n",
    "    ## DF is orderd strangely ##\n",
    "    ## Causes Weird Order of ##\n",
    "    ##      FIX THIS         ## \n",
    "            ####\n",
    "    \n",
    "    monthly_earn = monthly_earn_n_burn[0]\n",
    "    \n",
    "    monthly_burn = monthly_earn_n_burn[1]\n",
    "       \n",
    "    monthly_tots = round(round(df.groupby(df.month)['amount'].sum(), 5), 2)\n",
    "        # the aggregate of money either earned or burned for each given month\n",
    "    \n",
    "    \n",
    "                                          ##########################\n",
    "                                          ###     Functions      ###\n",
    "                                          ##########################\n",
    "    \n",
    "    def weekly_spend(self, week = None):\n",
    "        '''\n",
    "        week_spend(week): Gross expenditure for week of interest. type() = numpy.float64\n",
    "        NOTE: by defualt this function outputs the gross expenditure passsed in the week_of_interest (by defualt the \n",
    "        latest week). If you would like another week and not change the week_of_interest you can simply past that week \n",
    "        number in the week argument for this function.        \n",
    "        '''\n",
    "        if week is None:\n",
    "            week = self.week_of_interest\n",
    "        return round(df[df.week_of_year == week].sum()[0], 2)\n",
    "    \n",
    "    def this_weeks_purchases(self, week = None):\n",
    "        '''\n",
    "        this_weeks_purchases(week): Complete list for week of interest purchases. type() = pandas.core.frame.DataFrame\n",
    "        NOTE: by defualt this function outputs the list of purchases for the week_of_interest (by defualt the \n",
    "        latest week). If you would like another week and not change the week_of_interest you can simply past that week \n",
    "        number in the week argument for this function.\n",
    "        '''\n",
    "        if week is None:\n",
    "            week = self.week_of_interest\n",
    "        return df[df.week_of_year == week]\n",
    "    \n",
    "    def weekly_bar_plot(self):\n",
    "        ax = sns.barplot(x = self.weekly_burn.index, y = self.weekly_burn.values)\n",
    "        ax.axhline(self.weekly_burn.mean(), ls = \"--\", color = 'r') \n",
    "        ax.set(xlabel = 'Week', ylabel = 'Gross Expenditure ($)')\n",
    "        plt.gca().invert_yaxis()\n",
    "        plt.show()   \n",
    "        \n",
    "    def monthly_bar_plot(self, earn_or_burn = 'earn'):\n",
    "        '''\n",
    "        monthly_bar_plot: Barplot of either monthly earnings (default) or monthly spending \n",
    "        Input:\n",
    "            earn_or_burn = 'earn' | 'burn'\n",
    "        '''\n",
    "        if earn_or_burn == 'earn':\n",
    "            ax = sns.barplot(x = self.monthly_earn.index, y = self.monthly_earn.values)\n",
    "            ax.axhline(0, ls = \"-\", color = 'black') \n",
    "            ax.set(xlabel = 'Month', ylabel = 'Gross Earn ($)')\n",
    "            # add values above chart\n",
    "            for p in ax.patches:\n",
    "                ax.annotate(format(p.get_height(), '.2f'), (p.get_x()+ p.get_width() / 2., p.get_height()),\n",
    "                            ha = 'center', va = 'center', xytext = (0, 10), textcoords = 'offset points')\n",
    "            plt.ylim(top = self.monthly_earn.values.max() + 1500)\n",
    "            plt.show()\n",
    "            \n",
    "        elif earn_or_burn == 'burn':\n",
    "            ax = sns.barplot(x = self.monthly_burn.index, y = self.monthly_burn.values)\n",
    "            ax.axhline(0, ls = \"-\", color = 'black') \n",
    "            ax.set(xlabel = 'Month', ylabel = 'Gross Spent ($)')\n",
    "            plt.gca().invert_yaxis()\n",
    "            for p in ax.patches:\n",
    "                ax.annotate(format(p.get_height(), '.2f'), (p.get_x()+ p.get_width() / 2., p.get_height()),\n",
    "                            ha = 'center', va = 'center', xytext = (0, 10), textcoords = 'offset points')\n",
    "            plt.ylim(top = self.monthly_burn.min() - 500)\n",
    "            plt.show()\n",
    "            \n",
    "        else:\n",
    "            raise ValueError('Plotting Value must be either \"earn\" (default) or \"burn\"')   \n",
    "        \n",
    "    def week_pivot_table(self, week = None):\n",
    "        if week is None:\n",
    "            week = self.week_of_interest\n",
    "        return pd.pivot_table(self.df[df.week_of_year == week], values = 'amount', columns = 'description', aggfunc=np.sum)\n",
    "    \n",
    "    def year_pivot_table(self):\n",
    "        return pd.pivot_table(self.df, values = 'amount', index = 'month', columns = 'description', aggfunc=np.sum)"
   ]
  },
  {
   "cell_type": "code",
   "execution_count": 29,
   "metadata": {},
   "outputs": [
    {
     "name": "stdout",
     "output_type": "stream",
     "text": [
      "This week you earned $1963.44\n"
     ]
    }
   ],
   "source": [
    "example = Monthly_Spending(df)\n",
    "print(example)"
   ]
  },
  {
   "cell_type": "code",
   "execution_count": 31,
   "metadata": {},
   "outputs": [
    {
     "data": {
      "text/html": [
       "<div>\n",
       "<style scoped>\n",
       "    .dataframe tbody tr th:only-of-type {\n",
       "        vertical-align: middle;\n",
       "    }\n",
       "\n",
       "    .dataframe tbody tr th {\n",
       "        vertical-align: top;\n",
       "    }\n",
       "\n",
       "    .dataframe thead th {\n",
       "        text-align: right;\n",
       "    }\n",
       "</style>\n",
       "<table border=\"1\" class=\"dataframe\">\n",
       "  <thead>\n",
       "    <tr style=\"text-align: right;\">\n",
       "      <th>amount</th>\n",
       "      <th>False</th>\n",
       "      <th>True</th>\n",
       "    </tr>\n",
       "    <tr>\n",
       "      <th>month</th>\n",
       "      <th></th>\n",
       "      <th></th>\n",
       "    </tr>\n",
       "  </thead>\n",
       "  <tbody>\n",
       "    <tr>\n",
       "      <th>Aug</th>\n",
       "      <td>2000.0</td>\n",
       "      <td>-555.13</td>\n",
       "    </tr>\n",
       "    <tr>\n",
       "      <th>Jul</th>\n",
       "      <td>2000.0</td>\n",
       "      <td>-6959.52</td>\n",
       "    </tr>\n",
       "    <tr>\n",
       "      <th>Jun</th>\n",
       "      <td>2000.0</td>\n",
       "      <td>-2267.21</td>\n",
       "    </tr>\n",
       "  </tbody>\n",
       "</table>\n",
       "</div>"
      ],
      "text/plain": [
       "amount   False    True \n",
       "month                  \n",
       "Aug     2000.0  -555.13\n",
       "Jul     2000.0 -6959.52\n",
       "Jun     2000.0 -2267.21"
      ]
     },
     "execution_count": 31,
     "metadata": {},
     "output_type": "execute_result"
    }
   ],
   "source": [
    "example.monthly_earn_n_burn"
   ]
  },
  {
   "cell_type": "code",
   "execution_count": 47,
   "metadata": {},
   "outputs": [
    {
     "data": {
      "text/html": [
       "<div>\n",
       "<style scoped>\n",
       "    .dataframe tbody tr th:only-of-type {\n",
       "        vertical-align: middle;\n",
       "    }\n",
       "\n",
       "    .dataframe tbody tr th {\n",
       "        vertical-align: top;\n",
       "    }\n",
       "\n",
       "    .dataframe thead th {\n",
       "        text-align: right;\n",
       "    }\n",
       "</style>\n",
       "<table border=\"1\" class=\"dataframe\">\n",
       "  <thead>\n",
       "    <tr style=\"text-align: right;\">\n",
       "      <th>description</th>\n",
       "      <th>Bills</th>\n",
       "      <th>Paycheck</th>\n",
       "    </tr>\n",
       "  </thead>\n",
       "  <tbody>\n",
       "    <tr>\n",
       "      <th>amount</th>\n",
       "      <td>-36.56</td>\n",
       "      <td>2000.0</td>\n",
       "    </tr>\n",
       "  </tbody>\n",
       "</table>\n",
       "</div>"
      ],
      "text/plain": [
       "description  Bills  Paycheck\n",
       "amount      -36.56    2000.0"
      ]
     },
     "execution_count": 47,
     "metadata": {},
     "output_type": "execute_result"
    }
   ],
   "source": [
    "#spending.year_pivot_table()\n",
    "example.week_pivot_table()"
   ]
  },
  {
   "cell_type": "code",
   "execution_count": 46,
   "metadata": {},
   "outputs": [
    {
     "data": {
      "text/html": [
       "<div>\n",
       "<style scoped>\n",
       "    .dataframe tbody tr th:only-of-type {\n",
       "        vertical-align: middle;\n",
       "    }\n",
       "\n",
       "    .dataframe tbody tr th {\n",
       "        vertical-align: top;\n",
       "    }\n",
       "\n",
       "    .dataframe thead th {\n",
       "        text-align: right;\n",
       "    }\n",
       "</style>\n",
       "<table border=\"1\" class=\"dataframe\">\n",
       "  <thead>\n",
       "    <tr style=\"text-align: right;\">\n",
       "      <th>description</th>\n",
       "      <th>Bills</th>\n",
       "      <th>Clothes</th>\n",
       "      <th>Dining</th>\n",
       "      <th>Grocries</th>\n",
       "      <th>Paycheck</th>\n",
       "    </tr>\n",
       "    <tr>\n",
       "      <th>month</th>\n",
       "      <th></th>\n",
       "      <th></th>\n",
       "      <th></th>\n",
       "      <th></th>\n",
       "      <th></th>\n",
       "    </tr>\n",
       "  </thead>\n",
       "  <tbody>\n",
       "    <tr>\n",
       "      <th>Aug</th>\n",
       "      <td>-192.61</td>\n",
       "      <td>-13.23</td>\n",
       "      <td>-66.94</td>\n",
       "      <td>-282.35</td>\n",
       "      <td>2000.0</td>\n",
       "    </tr>\n",
       "    <tr>\n",
       "      <th>Jul</th>\n",
       "      <td>-1329.60</td>\n",
       "      <td>-1117.50</td>\n",
       "      <td>-2882.77</td>\n",
       "      <td>-1629.65</td>\n",
       "      <td>2000.0</td>\n",
       "    </tr>\n",
       "    <tr>\n",
       "      <th>Jun</th>\n",
       "      <td>-204.40</td>\n",
       "      <td>-734.30</td>\n",
       "      <td>-837.36</td>\n",
       "      <td>-491.15</td>\n",
       "      <td>2000.0</td>\n",
       "    </tr>\n",
       "  </tbody>\n",
       "</table>\n",
       "</div>"
      ],
      "text/plain": [
       "description    Bills  Clothes   Dining  Grocries  Paycheck\n",
       "month                                                     \n",
       "Aug          -192.61   -13.23   -66.94   -282.35    2000.0\n",
       "Jul         -1329.60 -1117.50 -2882.77  -1629.65    2000.0\n",
       "Jun          -204.40  -734.30  -837.36   -491.15    2000.0"
      ]
     },
     "execution_count": 46,
     "metadata": {},
     "output_type": "execute_result"
    }
   ],
   "source": [
    "example.year_pivot_table()"
   ]
  },
  {
   "cell_type": "code",
   "execution_count": 45,
   "metadata": {},
   "outputs": [
    {
     "data": {
      "text/plain": [
       "week_of_year\n",
       "1   -1024.09\n",
       "2    -940.68\n",
       "3    -302.44\n",
       "4   -1689.71\n",
       "5   -1613.24\n",
       "6   -1415.34\n",
       "7   -1179.63\n",
       "8   -1580.17\n",
       "9     -36.56\n",
       "Name: True, dtype: float64"
      ]
     },
     "execution_count": 45,
     "metadata": {},
     "output_type": "execute_result"
    }
   ],
   "source": [
    "example.weekly_burn"
   ]
  },
  {
   "cell_type": "code",
   "execution_count": 36,
   "metadata": {},
   "outputs": [
    {
     "data": {
      "text/plain": [
       "week_of_year\n",
       "1    2000.0\n",
       "2       0.0\n",
       "3       0.0\n",
       "4       0.0\n",
       "5    2000.0\n",
       "6       0.0\n",
       "7       0.0\n",
       "8       0.0\n",
       "9    2000.0\n",
       "dtype: float64"
      ]
     },
     "execution_count": 36,
     "metadata": {},
     "output_type": "execute_result"
    }
   ],
   "source": [
    "example.weekly_earn"
   ]
  },
  {
   "cell_type": "code",
   "execution_count": 38,
   "metadata": {},
   "outputs": [
    {
     "data": {
      "image/png": "[encoded data removed]",
      "text/plain": [
       "<Figure size 432x288 with 1 Axes>"
      ]
     },
     "metadata": {
      "needs_background": "light"
     },
     "output_type": "display_data"
    }
   ],
   "source": [
    "example.weekly_bar_plot()"
   ]
  },
  {
   "cell_type": "code",
   "execution_count": 39,
   "metadata": {},
   "outputs": [
    {
     "data": {
      "image/png": "[encoded data removed]",
      "text/plain": [
       "<Figure size 432x288 with 1 Axes>"
      ]
     },
     "metadata": {
      "needs_background": "light"
     },
     "output_type": "display_data"
    }
   ],
   "source": [
    "example.monthly_bar_plot('burn')"
   ]
  },
  {
   "cell_type": "code",
   "execution_count": 40,
   "metadata": {},
   "outputs": [
    {
     "data": {
      "image/png": "[encoded data removed]",
      "text/plain": [
       "<Figure size 432x288 with 1 Axes>"
      ]
     },
     "metadata": {
      "needs_background": "light"
     },
     "output_type": "display_data"
    }
   ],
   "source": [
    "example.monthly_bar_plot()"
   ]
  },
  {
   "cell_type": "code",
   "execution_count": null,
   "metadata": {},
   "outputs": [],
   "source": []
  }
 ],
 "metadata": {
  "kernelspec": {
   "display_name": "Python 3",
   "language": "python",
   "name": "python3"
  },
  "language_info": {
   "codemirror_mode": {
    "name": "ipython",
    "version": 3
   },
   "file_extension": ".py",
   "mimetype": "text/x-python",
   "name": "python",
   "nbconvert_exporter": "python",
   "pygments_lexer": "ipython3",
   "version": "3.6.8"
  }
 },
 "nbformat": 4,
 "nbformat_minor": 2
}
